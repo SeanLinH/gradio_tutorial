{
 "cells": [
  {
   "cell_type": "code",
   "execution_count": null,
   "metadata": {},
   "outputs": [],
   "source": [
    "# !pip install -q gradio pandas  "
   ]
  },
  {
   "cell_type": "code",
   "execution_count": 2,
   "metadata": {},
   "outputs": [
    {
     "name": "stderr",
     "output_type": "stream",
     "text": [
      "/Users/linshihuan/Dev/.gradio/lib/python3.11/site-packages/tqdm/auto.py:21: TqdmWarning: IProgress not found. Please update jupyter and ipywidgets. See https://ipywidgets.readthedocs.io/en/stable/user_install.html\n",
      "  from .autonotebook import tqdm as notebook_tqdm\n"
     ]
    }
   ],
   "source": [
    "## Importing the libraries\n",
    "import gradio as gr\n",
    "import pandas as pd\n",
    "import random"
   ]
  },
  {
   "cell_type": "code",
   "execution_count": 3,
   "metadata": {},
   "outputs": [],
   "source": [
    "## Importing the dataset\n",
    "fake_barley = pd.DataFrame(\n",
    "    {\n",
    "        \"site\": [\n",
    "            random.choice(\n",
    "                [\n",
    "                    \"University Farm\",\n",
    "                    \"Waseca\",\n",
    "                    \"Morris\",\n",
    "                    \"Crookston\",\n",
    "                    \"Grand Rapids\",\n",
    "                    \"Duluth\",\n",
    "                ]\n",
    "            )\n",
    "            for _ in range(120)\n",
    "        ],\n",
    "        \"yield\": [random.randint(25, 75) for _ in range(120)],\n",
    "        \"variety\": [\n",
    "            random.choice(\n",
    "                [\n",
    "                    \"Manchuria\",\n",
    "                    \"Wisconsin No. 38\",\n",
    "                    \"Glabron\",\n",
    "                    \"No. 457\",\n",
    "                    \"No. 462\",\n",
    "                    \"No. 475\",\n",
    "                ]\n",
    "            )\n",
    "            for _ in range(120)\n",
    "        ],\n",
    "        \"year\": [\n",
    "            random.choice(\n",
    "                [\n",
    "                    \"1931\",\n",
    "                    \"1932\",\n",
    "                ]\n",
    "            )\n",
    "            for _ in range(120)\n",
    "        ],\n",
    "    }\n",
    ")"
   ]
  },
  {
   "cell_type": "code",
   "execution_count": null,
   "metadata": {},
   "outputs": [],
   "source": [
    "# Define your barplot function\n",
    "def bar_plot_fn(display):\n",
    "    if display == \"stacked\":\n",
    "        return gr.BarPlot(\n",
    "            fake_barley,\n",
    "            x=\"variety\",\n",
    "            y=\"yield\",\n",
    "            color=\"site\",\n",
    "            title=\"Barley Yield Data\",\n",
    "            tooltip=[\"variety\", \"site\"],\n",
    "        )\n",
    "    elif display == \"grouped\":\n",
    "        return gr.BarPlot(\n",
    "            fake_barley.astype({\"year\": str}),\n",
    "            x=\"year\",\n",
    "            y=\"yield\",\n",
    "            color=\"year\",\n",
    "            group=\"site\",\n",
    "            title=\"Barley Yield by Year and Site\",\n",
    "            group_title=\"\",\n",
    "            tooltip=[\"yield\", \"site\", \"year\"],\n",
    "        )\n",
    "    elif display == \"stacked-horizontal\":\n",
    "        return gr.BarPlot(\n",
    "            fake_barley,\n",
    "            x=\"variety\",\n",
    "            y=\"yield\",\n",
    "            color=\"site\",\n",
    "            title=\"Barley Yield Data\",\n",
    "            vertical=False,\n",
    "            tooltip=[\"variety\", \"site\"],\n",
    "        )\n",
    "    elif display == \"grouped-horizontal\":\n",
    "        return gr.BarPlot(\n",
    "            fake_barley.astype({\"year\": str}),\n",
    "            x=\"year\",\n",
    "            y=\"yield\",\n",
    "            color=\"year\",\n",
    "            group=\"site\",\n",
    "            title=\"Barley Yield by Year and Site\",\n",
    "            group_title=\"\",\n",
    "            tooltip=[\"yield\", \"site\", \"year\"],\n",
    "            vertical=False,\n",
    "        )\n",
    "\n",
    "\n",
    "with gr.Blocks() as bar_plot:\n",
    "    with gr.Row():\n",
    "        with gr.Column():\n",
    "            display = gr.Dropdown(\n",
    "                choices=[\n",
    "                    \"stacked\",\n",
    "                    \"grouped\",\n",
    "                    \"stacked-horizontal\",\n",
    "                    \"grouped-horizontal\",\n",
    "                ],\n",
    "                value=\"stacked\",\n",
    "                label=\"Type of Bar Plot\",\n",
    "            )\n",
    "        with gr.Column():\n",
    "            plot = gr.BarPlot()\n",
    "    display.change(bar_plot_fn, inputs=display, outputs=plot)\n",
    "    bar_plot.load(fn=bar_plot_fn, inputs=display, outputs=plot)\n",
    "\n",
    "bar_plot.launch()\n",
    "\n"
   ]
  }
 ],
 "metadata": {
  "kernelspec": {
   "display_name": ".gradio",
   "language": "python",
   "name": "python3"
  },
  "language_info": {
   "codemirror_mode": {
    "name": "ipython",
    "version": 3
   },
   "file_extension": ".py",
   "mimetype": "text/x-python",
   "name": "python",
   "nbconvert_exporter": "python",
   "pygments_lexer": "ipython3",
   "version": "3.11.5"
  }
 },
 "nbformat": 4,
 "nbformat_minor": 2
}
