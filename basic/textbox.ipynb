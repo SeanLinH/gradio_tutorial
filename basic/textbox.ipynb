{
 "cells": [
  {
   "cell_type": "code",
   "execution_count": null,
   "metadata": {},
   "outputs": [],
   "source": [
    "!pip install OpenAI\n",
    "!pip install gradio"
   ]
  },
  {
   "cell_type": "code",
   "execution_count": 16,
   "metadata": {},
   "outputs": [],
   "source": [
    "## chatGPT with Gradio 起手式\n",
    "## 在你的資料夾新增 .env 檔案，並在裡面寫入 API_KEY=你的API金鑰\n",
    "import openai\n",
    "import os\n",
    "import gradio as gr\n",
    "\n",
    "\n"
   ]
  },
  {
   "cell_type": "code",
   "execution_count": 17,
   "metadata": {},
   "outputs": [],
   "source": [
    "## OpenAI Completion\n",
    "def get_completion(pswd, prompt, model=\"gpt-3.5-turbo\"):\n",
    "    openai.api_key  = pswd\n",
    "    messages = [{\"role\": \"system\", \"content\": \"You can provide some dietary advice based on the user's BMI value.\"},\n",
    "                {\"role\": \"user\", \"content\": prompt}]\n",
    "    response = openai.chat.completions.create(\n",
    "        model=model,\n",
    "        messages=messages,\n",
    "        temperature=0.3, # this is the degree of randomness of the model's output\n",
    "    )\n",
    "    return response.choices[0].message.content"
   ]
  },
  {
   "cell_type": "code",
   "execution_count": 18,
   "metadata": {},
   "outputs": [],
   "source": [
    "# OpenAI API textbox\n",
    "key_box = gr.Textbox(\n",
    "    label=\"Enter your API key\",\n",
    "    info=\"You have to provide your own OPENAI_API_KEY for this app to function properly\",\n",
    "    placeholder=\"Type OpenAI API KEY here...\",\n",
    "    type=\"password\")\n",
    "\n",
    "# Input textbox \n",
    "input_box = gr.Textbox(\n",
    "    label=\"Input Text\",\n",
    "    info=\"輸入你的會議紀錄\",\n",
    "    placeholder=\"Type something here...\",\n",
    "    lines=5)\n",
    "\n",
    "# Output textbox\n",
    "output_box = gr.Textbox(\n",
    "    label=\"Output Text\",\n",
    "    placeholder=\"Output will appear here...\",\n",
    "    lines=5)\n"
   ]
  },
  {
   "cell_type": "code",
   "execution_count": 19,
   "metadata": {},
   "outputs": [
    {
     "name": "stdout",
     "output_type": "stream",
     "text": [
      "Running on local URL:  http://127.0.0.1:7891\n",
      "Running on public URL: https://1b1dd8fe64f36639a4.gradio.live\n",
      "\n",
      "This share link expires in 72 hours. For free permanent hosting and GPU upgrades, run `gradio deploy` from Terminal to deploy to Spaces (https://huggingface.co/spaces)\n"
     ]
    },
    {
     "data": {
      "text/html": [
       "<div><iframe src=\"https://1b1dd8fe64f36639a4.gradio.live\" width=\"100%\" height=\"500\" allow=\"autoplay; camera; microphone; clipboard-read; clipboard-write;\" frameborder=\"0\" allowfullscreen></iframe></div>"
      ],
      "text/plain": [
       "<IPython.core.display.HTML object>"
      ]
     },
     "metadata": {},
     "output_type": "display_data"
    },
    {
     "data": {
      "text/plain": []
     },
     "execution_count": 19,
     "metadata": {},
     "output_type": "execute_result"
    }
   ],
   "source": [
    "## create gradio interface\n",
    "\n",
    "demo = gr.Interface(\n",
    "    fn=get_completion,\n",
    "    inputs= [key_box, input_box],\n",
    "    outputs= output_box,\n",
    "    theme=gr.themes.Default(primary_hue=\"red\", secondary_hue=\"pink\"),\n",
    "    title=\"會議總結小幫手\",\n",
    "    description= \"於下方欄位輸入你的會議紀錄, AI自動幫助你\",\n",
    "    allow_flagging=\"never\")\n",
    "\n",
    "demo.launch(share=True)"
   ]
  },
  {
   "cell_type": "code",
   "execution_count": 26,
   "metadata": {},
   "outputs": [
    {
     "name": "stdout",
     "output_type": "stream",
     "text": [
      "Running on local URL:  http://127.0.0.1:7886\n",
      "Running on public URL: https://17e15def6acd86825c.gradio.live\n",
      "\n",
      "This share link expires in 72 hours. For free permanent hosting and GPU upgrades, run `gradio deploy` from Terminal to deploy to Spaces (https://huggingface.co/spaces)\n"
     ]
    },
    {
     "data": {
      "text/html": [
       "<div><iframe src=\"https://17e15def6acd86825c.gradio.live\" width=\"100%\" height=\"500\" allow=\"autoplay; camera; microphone; clipboard-read; clipboard-write;\" frameborder=\"0\" allowfullscreen></iframe></div>"
      ],
      "text/plain": [
       "<IPython.core.display.HTML object>"
      ]
     },
     "metadata": {},
     "output_type": "display_data"
    },
    {
     "data": {
      "text/plain": []
     },
     "execution_count": 26,
     "metadata": {},
     "output_type": "execute_result"
    }
   ],
   "source": [
    "## Block 的寫法\n",
    "\n",
    "with gr.Blocks() as demo:\n",
    "    gr.Markdown(\"\"\"## 會議總結小幫手\n",
    "                於下方欄位輸入你的會議紀錄, AI自動幫助你\n",
    "    \"\"\")\n",
    "    gr.themes.Default(primary_hue=\"red\", secondary_hue=\"pink\")\n",
    "\n",
    "    with gr.Row():\n",
    "\n",
    "        with gr.Column():\n",
    "            key_box.render()\n",
    "            input_box.render()\n",
    "            btn = gr.Button(value=\"Submit\",variant=\"primary\", scale=1)\n",
    "            btn.click(fn=get_completion,inputs=[key_box, input_box],outputs=output_box)\n",
    "            gr.ClearButton()\n",
    "        output_box.render()\n",
    "\n",
    "demo.launch(share=True)"
   ]
  }
 ],
 "metadata": {
  "kernelspec": {
   "display_name": ".gradio",
   "language": "python",
   "name": "python3"
  },
  "language_info": {
   "codemirror_mode": {
    "name": "ipython",
    "version": 3
   },
   "file_extension": ".py",
   "mimetype": "text/x-python",
   "name": "python",
   "nbconvert_exporter": "python",
   "pygments_lexer": "ipython3",
   "version": "3.11.5"
  }
 },
 "nbformat": 4,
 "nbformat_minor": 2
}
