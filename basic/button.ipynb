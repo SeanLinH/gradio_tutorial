{
 "cells": [
  {
   "cell_type": "code",
   "execution_count": null,
   "metadata": {},
   "outputs": [],
   "source": [
    "!pip install openai\n",
    "!pip install gradio\n",
    "!pip install python-dotenv"
   ]
  },
  {
   "cell_type": "code",
   "execution_count": 1,
   "metadata": {},
   "outputs": [
    {
     "name": "stderr",
     "output_type": "stream",
     "text": [
      "/Users/linshihuan/Dev/.gradio/lib/python3.11/site-packages/tqdm/auto.py:21: TqdmWarning: IProgress not found. Please update jupyter and ipywidgets. See https://ipywidgets.readthedocs.io/en/stable/user_install.html\n",
      "  from .autonotebook import tqdm as notebook_tqdm\n"
     ]
    }
   ],
   "source": [
    "## chatGPT with Gradio 起手式\n",
    "## 在你的資料夾新增 .env 檔案，並在裡面寫入 API_KEY=你的API金鑰\n",
    "import openai\n",
    "import os\n",
    "import gradio as gr\n",
    "from dotenv import load_dotenv, find_dotenv\n",
    "_ = load_dotenv(find_dotenv())\n",
    "\n",
    "openai.api_key  = os.getenv('API_KEY')\n"
   ]
  },
  {
   "cell_type": "code",
   "execution_count": 2,
   "metadata": {},
   "outputs": [],
   "source": [
    "## AI 建議\n",
    "def get_advice(bmi,temp, model=\"gpt-3.5-turbo\"):\n",
    "    messages = [{\"role\": \"system\", \"content\": \"You are a great workout coach. You can always give a concisely explanation\"},\n",
    "                {\"role\": \"user\", \"content\": f'My BMI is {bmi}. What can I do to be healthier?'},]\n",
    "    response = openai.chat.completions.create(\n",
    "        model=model,\n",
    "        messages=messages,\n",
    "        temperature=temp, # this is the degree of randomness of the model's output\n",
    "    )\n",
    "    return response.choices[0].message.content\n",
    "\n",
    "## 健身計畫\n",
    "def get_gym(bmi,slide, temp, model=\"gpt-3.5-turbo\"):\n",
    "    messages = [{\"role\": \"system\", \"content\": \"You are a great fitness coach and \\\n",
    "                 you will give users great fitness plans.\"},\n",
    "                {\"role\": \"user\", \"content\": f'My BMI is {bmi}. I want a {slide}-point weight\\\n",
    "                  loss plan, from 1 to 10. The higher the number, the faster the weight loss.'},]\n",
    "    response = openai.chat.completions.create(\n",
    "        model=model,\n",
    "        messages=messages,\n",
    "        temperature=temp, # this is the degree of randomness of the model's output\n",
    "    )\n",
    "    return response.choices[0].message.content"
   ]
  },
  {
   "cell_type": "code",
   "execution_count": 3,
   "metadata": {},
   "outputs": [],
   "source": [
    "def BMI(height, weight) -> int:\n",
    "    height = int(height) / 100\n",
    "    bmi = int(weight) / (height * height)\n",
    "    if bmi < 18.5:\n",
    "        return str(bmi)[:5], \"過輕\"\n",
    "    elif bmi < 24:\n",
    "        return str(bmi)[:5], \"正常\"\n",
    "    elif bmi < 27:\n",
    "        return str(bmi)[:5], \"過重\"\n",
    "    elif bmi < 30:\n",
    "        return str(bmi)[:5], \"輕度肥胖\"\n",
    "    elif bmi < 35:\n",
    "        return str(bmi)[:5], \"中度肥胖\"\n",
    "    else:\n",
    "        return str(bmi)[:5], \"重度肥胖\"\n",
    "\n"
   ]
  },
  {
   "cell_type": "code",
   "execution_count": 4,
   "metadata": {},
   "outputs": [],
   "source": [
    "def respond(message, chat_history, model=\"gpt-3.5-turbo\"):\n",
    "        messages = [{\"role\": \"system\", \"content\": \"You are a great fitness coach and \\\n",
    "                 you will give users great fitness plans.\"},\n",
    "                {\"role\": \"user\", \"content\": message},]\n",
    "        chat_history.append()\n",
    "        response = openai.chat.completions.create(\n",
    "        model=model,\n",
    "        messages=chat_history,\n",
    "        temperature=0.2, # this is the degree of randomness of the model's output\n",
    "    )\n",
    "        \n",
    "        return \"\", chat_history"
   ]
  },
  {
   "cell_type": "code",
   "execution_count": 5,
   "metadata": {},
   "outputs": [],
   "source": [
    "# 建立 components\n",
    "height = gr.Textbox(\n",
    "    label=\"身高\",\n",
    "    info=\"輸入你的身高(cm)\",\n",
    "    placeholder=\"Type your hiegh here...\")\n",
    "\n",
    "weight = gr.Textbox(\n",
    "    label=\"體重\",\n",
    "    info=\"輸入你的體重(kg)\",\n",
    "    placeholder=\"Type your weight here...\",)\n",
    "\n",
    "output_bmi = gr.Textbox(\n",
    "    value=\"\",\n",
    "    label=\"BMI 值\",\n",
    "    info=\"顯示BMI 數字\",\n",
    "    placeholder=\"BMI\")\n",
    "\n",
    "output_state = gr.Textbox(\n",
    "    value=\"\",\n",
    "    label=\"BMI 結果\",\n",
    "    info=\"診斷\",\n",
    "    placeholder=\"顯示診斷結果\")\n",
    "\n",
    "advice = gr.Textbox(\n",
    "    label=\"AI Advice\",\n",
    "    info=\"請選擇以下按鈕讓AI 根據你的BMI值給予的建議\",\n",
    "    placeholder=\"Ouput Text here...\",\n",
    "    lines=5,)\n",
    "\n",
    "btn = gr.Button(\n",
    "    value=\"計算BMI值\",\n",
    "    variant=\"primary\", scale=1)\n",
    "\n",
    "btn_advice  = gr.Button(\n",
    "    value=\"AI 建議\",\n",
    "    variant=\"primary\", scale=2)\n",
    "\n",
    "btn_gym = gr.Button(\n",
    "    value=\"AI 健身計畫\",\n",
    "    variant=\"primary\", scale=1)\n",
    "\n",
    "# key_box = gr.Textbox(\n",
    "#     label=\"Enter your API key\",\n",
    "#     info=\"You have to provide your own OPENAI_API_KEY for this app to function properly\",\n",
    "#     placeholder=\"Type OpenAI API KEY here...\",\n",
    "#     type=\"password\")\n",
    "\n",
    "slider = gr.Slider(\n",
    "    minimum=1,\n",
    "    maximum=10,\n",
    "    step=1,\n",
    "    label=\"減重速度\",\n",
    "    value=5,\n",
    "    info=\"請選擇你的減重速度，數字越大，減重越快\",\n",
    "    )\n",
    "\n",
    "temperature = gr.Slider(\n",
    "    minimum=0,\n",
    "    maximum=1.0,\n",
    "    value=0.4,\n",
    "    step=0.05,\n",
    "    label=\"Temperature\",\n",
    "    info=(\n",
    "        \"Temperature controls the degree of randomness in token selection. Lower \"\n",
    "        \"temperatures are good for prompts that expect a true or correct response, \"\n",
    "        \"while higher temperatures can lead to more diverse or unexpected results. \"\n",
    "    ),\n",
    ")\n"
   ]
  },
  {
   "cell_type": "code",
   "execution_count": 6,
   "metadata": {},
   "outputs": [
    {
     "name": "stdout",
     "output_type": "stream",
     "text": [
      "Running on local URL:  http://127.0.0.1:7862\n",
      "Running on public URL: https://3bdb34635a2f0294d3.gradio.live\n",
      "\n",
      "This share link expires in 72 hours. For free permanent hosting and GPU upgrades, run `gradio deploy` from Terminal to deploy to Spaces (https://huggingface.co/spaces)\n"
     ]
    },
    {
     "data": {
      "text/html": [
       "<div><iframe src=\"https://3bdb34635a2f0294d3.gradio.live\" width=\"100%\" height=\"500\" allow=\"autoplay; camera; microphone; clipboard-read; clipboard-write;\" frameborder=\"0\" allowfullscreen></iframe></div>"
      ],
      "text/plain": [
       "<IPython.core.display.HTML object>"
      ]
     },
     "metadata": {},
     "output_type": "display_data"
    },
    {
     "data": {
      "text/plain": []
     },
     "execution_count": 6,
     "metadata": {},
     "output_type": "execute_result"
    }
   ],
   "source": [
    "with gr.Blocks() as demo:\n",
    "    gr.Markdown(\"\"\"\n",
    "    # BMI 計算器\n",
    "    簡易測量你的BMI值\n",
    "    \"\"\")\n",
    "    with gr.Column():\n",
    "        with gr.Row():\n",
    "            height.render()  # 顯示身高輸入框\n",
    "            weight.render() # 顯示體重輸入框\n",
    "        \n",
    "        with gr.Row():\n",
    "            output_bmi.render() # 顯示BMI值結果\n",
    "            output_state.render() # 顯示BMI診斷結果\n",
    "\n",
    "        btn.render() # 顯示計算BMI值按鈕\n",
    "        btn.click(fn=BMI, \n",
    "                     inputs=[height, weight], \n",
    "                     outputs=[output_bmi,output_state])\n",
    "\n",
    "        advice.render() # 顯示AI建議結果的文字框\n",
    "        # key_box.render() # 顯示API金鑰輸入框\n",
    "        with gr.Row(): \n",
    "            btn_advice.render() # 顯示AI建議按鈕\n",
    "            btn_advice.click(fn=get_advice, inputs=[output_bmi,temperature], outputs=advice)\n",
    "            btn_gym.render() # 顯示AI健身計畫按鈕\n",
    "            btn_gym.click(fn=get_gym, inputs=[output_bmi,slider,temperature], outputs=advice)\n",
    "\n",
    "        with gr.Accordion(\"settings\", open=True):\n",
    "            slider.render()\n",
    "            temperature.render()            \n",
    "\n",
    "demo.launch(share=True)"
   ]
  }
 ],
 "metadata": {
  "kernelspec": {
   "display_name": ".gradio",
   "language": "python",
   "name": "python3"
  },
  "language_info": {
   "codemirror_mode": {
    "name": "ipython",
    "version": 3
   },
   "file_extension": ".py",
   "mimetype": "text/x-python",
   "name": "python",
   "nbconvert_exporter": "python",
   "pygments_lexer": "ipython3",
   "version": "3.11.5"
  }
 },
 "nbformat": 4,
 "nbformat_minor": 2
}
