{
 "cells": [
  {
   "cell_type": "markdown",
   "metadata": {},
   "source": [
    "# 實作slider"
   ]
  },
  {
   "cell_type": "code",
   "execution_count": 1,
   "metadata": {},
   "outputs": [
    {
     "name": "stderr",
     "output_type": "stream",
     "text": [
      "/Users/linshihuan/Dev/.gradio/lib/python3.11/site-packages/tqdm/auto.py:21: TqdmWarning: IProgress not found. Please update jupyter and ipywidgets. See https://ipywidgets.readthedocs.io/en/stable/user_install.html\n",
      "  from .autonotebook import tqdm as notebook_tqdm\n"
     ]
    }
   ],
   "source": [
    "import gradio as gr\n",
    "import math"
   ]
  },
  {
   "cell_type": "code",
   "execution_count": 4,
   "metadata": {},
   "outputs": [
    {
     "name": "stdout",
     "output_type": "stream",
     "text": [
      "Running on local URL:  http://127.0.0.1:7861\n",
      "\n",
      "To create a public link, set `share=True` in `launch()`.\n"
     ]
    },
    {
     "data": {
      "text/html": [
       "<div><iframe src=\"http://127.0.0.1:7861/\" width=\"100%\" height=\"500\" allow=\"autoplay; camera; microphone; clipboard-read; clipboard-write;\" frameborder=\"0\" allowfullscreen></iframe></div>"
      ],
      "text/plain": [
       "<IPython.core.display.HTML object>"
      ]
     },
     "metadata": {},
     "output_type": "display_data"
    },
    {
     "data": {
      "text/plain": []
     },
     "execution_count": 4,
     "metadata": {},
     "output_type": "execute_result"
    }
   ],
   "source": [
    "\n",
    "# create slider\n",
    "slider = gr.Slider(\n",
    "    minimum=-10,\n",
    "    maximum=10,\n",
    "    step=0.25,\n",
    "    label=\"選擇你的數值\",\n",
    "    value=0,\n",
    "    info=\"請滑動滑桿\",\n",
    "    # update=True  # Enable dynamic update\n",
    ")\n",
    "output = gr.Number(\n",
    "    label=\"輸出值\",\n",
    "    value=0,\n",
    "    interactive=True\n",
    ")\n",
    "\n",
    "btn = gr.Button(\n",
    "    value=\"按鈕\",\n",
    ")\n",
    "\n",
    "def sigmoid(number):\n",
    "    return 1 / (1 + math.exp(-number))\n",
    "\n",
    "## create gradio interface\n",
    "with gr.Blocks() as demo:\n",
    "    slider.render()\n",
    "    gr.update()\n",
    "    btn.render()\n",
    "    btn.click(fn=sigmoid, inputs=slider, outputs=output)\n",
    "    output.render()  \n",
    "\n",
    "\n",
    "gr.close_all()\n",
    "demo.launch()"
   ]
  },
  {
   "cell_type": "code",
   "execution_count": null,
   "metadata": {},
   "outputs": [],
   "source": []
  }
 ],
 "metadata": {
  "kernelspec": {
   "display_name": ".gradio",
   "language": "python",
   "name": "python3"
  },
  "language_info": {
   "codemirror_mode": {
    "name": "ipython",
    "version": 3
   },
   "file_extension": ".py",
   "mimetype": "text/x-python",
   "name": "python",
   "nbconvert_exporter": "python",
   "pygments_lexer": "ipython3",
   "version": "3.11.5"
  }
 },
 "nbformat": 4,
 "nbformat_minor": 2
}
