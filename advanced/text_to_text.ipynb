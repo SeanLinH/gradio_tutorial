{
 "cells": [
  {
   "cell_type": "code",
   "execution_count": null,
   "metadata": {},
   "outputs": [],
   "source": [
    "from transformers import pipeline\n",
    "\n",
    "get_completion = pipeline(\"summarization\", model=\"sshleifer/distilbart-cnn-12-6\")\n",
    "\n",
    "def summarize(input):\n",
    "    output = get_completion(input)\n",
    "    return output"
   ]
  },
  {
   "cell_type": "code",
   "execution_count": null,
   "metadata": {},
   "outputs": [],
   "source": [
    "ans = summarize(\"The tower is 324 metres (1,063 ft) tall, about the same height as an 81-storey building, and the tallest structure in Paris. Its base is square, measuring 125 metres (410 ft) on each side. During its construction, the Eiffel Tower surpassed the Washington Monument to become the tallest man-made structure in the world, a title it held for 41 years until the Chrysler Building in New York City was finished in 1930. It was the first structure to reach a height of 300 metres. Due to the addition of a broadcasting aerial at the top of the tower in 1957, it is now taller than the Chrysler Building by 5.2 metres (17 ft). Excluding transmitters, the Eiffel Tower is the second tallest free-standing structure in France after the Millau Viaduct.\")"
   ]
  },
  {
   "cell_type": "code",
   "execution_count": null,
   "metadata": {},
   "outputs": [],
   "source": [
    "import gradio as gr\n",
    "\n",
    "def greet(name):\n",
    "    return \"Hello \" + name + \"!!\"\n",
    "\n",
    "demo = gr.Interface(fn=greet, inputs=\"text\", outputs=\"text\")\n",
    "demo.launch()\n"
   ]
  },
  {
   "cell_type": "code",
   "execution_count": null,
   "metadata": {},
   "outputs": [],
   "source": [
    "# generate gradio interface summary sample code\n",
    "import gradio as gr\n",
    "\n",
    "demo = gr.Interface(\n",
    "\n",
    "    fn=summarize,\n",
    "    inputs=gr.Textbox(lines=5, label=\"Input Text\"),\n",
    "    outputs=gr.Textbox(label=\"Output Text\")\n",
    ")\n",
    "gr.close_all()\n",
    "demo.launch()\n"
   ]
  },
  {
   "cell_type": "markdown",
   "metadata": {},
   "source": [
    "## ChatGPT with Gradio 起手式"
   ]
  },
  {
   "cell_type": "code",
   "execution_count": null,
   "metadata": {},
   "outputs": [],
   "source": [
    "## chatGPT with Gradio 起手式\n",
    "## 在你的資料夾新增 .env 檔案，並在裡面寫入 API_KEY=你的API金鑰\n",
    "import openai\n",
    "import os\n",
    "\n",
    "from dotenv import load_dotenv, find_dotenv\n",
    "_ = load_dotenv(find_dotenv())\n",
    "\n",
    "openai.api_key  = os.getenv('API_KEY')"
   ]
  },
  {
   "cell_type": "code",
   "execution_count": null,
   "metadata": {},
   "outputs": [],
   "source": [
    "## OpenAI Completion\n",
    "def get_completion(adui, prompt, model=\"gpt-3.5-turbo\"):\n",
    "    messages = [{\"role\": \"system\", \"content\": \"You are a helpful assistant.\\\n",
    "                  You can summarize the user's contents shortly.\"},\n",
    "                {\"role\": \"user\", \"content\": prompt}]\n",
    "    response = openai.chat.completions.create(\n",
    "        model=model,\n",
    "        messages=messages,\n",
    "        temperature=0.3, # this is the degree of randomness of the model's output\n",
    "    )\n",
    "    return response.choices[0].message.content"
   ]
  },
  {
   "cell_type": "code",
   "execution_count": null,
   "metadata": {},
   "outputs": [],
   "source": [
    "# OpenAI API textbox\n",
    "key_box = gr.Textbox(\n",
    "    label=\"Enter your API key\",\n",
    "    info=\"You have to provide your own OPENAI_API_KEY for this app to function properly\",\n",
    "    placeholder=\"Type OpenAI API KEY here...\",\n",
    "    type=\"password\")\n",
    "\n",
    "# Input textbox \n",
    "input_box = gr.Textbox(\n",
    "    label=\"Input Text\",\n",
    "    info=\"輸入你的會議紀錄\",\n",
    "    placeholder=\"Type something here...\",\n",
    "    lines=5)\n",
    "\n",
    "# Output textbox\n",
    "output_box = gr.Textbox(\n",
    "    label=\"Output Text\",\n",
    "    placeholder=\"Output will appear here...\",\n",
    "    lines=5)\n"
   ]
  },
  {
   "cell_type": "code",
   "execution_count": null,
   "metadata": {},
   "outputs": [],
   "source": [
    "## create gradio interface\n",
    "import gradio as gr\n",
    "\n",
    "demo = gr.Interface(\n",
    "    fn=get_completion,\n",
    "    inputs= [key_box, input_box],\n",
    "    outputs= output_box,\n",
    "    theme=gr.themes.Default(primary_hue=\"red\", secondary_hue=\"pink\"),\n",
    "    title=\"會議總結小幫手\",\n",
    "    description= \"於下方欄位輸入你的會議紀錄, AI自動幫助你\",\n",
    "    allow_flagging=\"never\",\n",
    ")\n",
    "demo.launch(share=True)"
   ]
  },
  {
   "cell_type": "code",
   "execution_count": null,
   "metadata": {},
   "outputs": [],
   "source": [
    "## create gradio interface\n",
    "\n",
    "\n",
    "demo = gr.Interface(\n",
    "    fn=get_completion,\n",
    "    inputs=input_box,\n",
    "    outputs=output_box,\n",
    "    examples=[\"the spirit of a tamagotchi wandering in the city of Vienna\",\"a mecha robot in a favela\"])\n",
    "\n",
    "gr.close_all()\n",
    "demo.launch(share=True)"
   ]
  },
  {
   "cell_type": "code",
   "execution_count": null,
   "metadata": {},
   "outputs": [],
   "source": []
  }
 ],
 "metadata": {
  "kernelspec": {
   "display_name": ".gradio",
   "language": "python",
   "name": "python3"
  },
  "language_info": {
   "codemirror_mode": {
    "name": "ipython",
    "version": 3
   },
   "file_extension": ".py",
   "mimetype": "text/x-python",
   "name": "python",
   "nbconvert_exporter": "python",
   "pygments_lexer": "ipython3",
   "version": "3.11.5"
  }
 },
 "nbformat": 4,
 "nbformat_minor": 2
}
