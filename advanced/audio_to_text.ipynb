{
 "cells": [
  {
   "cell_type": "markdown",
   "metadata": {},
   "source": [
    "# Audio to Text\n",
    "\n",
    "利用Whisper 將語音轉文字\n",
    "https://huggingface.co/openai/whisper-large-v3\n",
    "\n",
    "GitHub: https://github.com/openai/whisper\n",
    "\n",
    "\n"
   ]
  },
  {
   "cell_type": "code",
   "execution_count": null,
   "metadata": {},
   "outputs": [],
   "source": [
    "!pip install torch \n",
    "!pip install transformers\n",
    "!pip install gradio "
   ]
  },
  {
   "cell_type": "code",
   "execution_count": 1,
   "metadata": {},
   "outputs": [
    {
     "name": "stderr",
     "output_type": "stream",
     "text": [
      "/Users/linshihuan/Dev/.gradio/lib/python3.11/site-packages/tqdm/auto.py:21: TqdmWarning: IProgress not found. Please update jupyter and ipywidgets. See https://ipywidgets.readthedocs.io/en/stable/user_install.html\n",
      "  from .autonotebook import tqdm as notebook_tqdm\n",
      "config.json: 100%|██████████| 1.27k/1.27k [00:00<00:00, 1.88MB/s]\n",
      "model.safetensors: 100%|██████████| 3.09G/3.09G [02:53<00:00, 17.8MB/s]\n",
      "generation_config.json: 100%|██████████| 3.90k/3.90k [00:00<00:00, 4.97MB/s]\n",
      "preprocessor_config.json: 100%|██████████| 340/340 [00:00<00:00, 919kB/s]\n",
      "tokenizer_config.json: 100%|██████████| 283k/283k [00:00<00:00, 469kB/s]\n",
      "vocab.json: 100%|██████████| 1.04M/1.04M [00:00<00:00, 1.22MB/s]\n",
      "tokenizer.json: 100%|██████████| 2.48M/2.48M [00:00<00:00, 4.00MB/s]\n",
      "merges.txt: 100%|██████████| 494k/494k [00:00<00:00, 10.8MB/s]\n",
      "normalizer.json: 100%|██████████| 52.7k/52.7k [00:00<00:00, 266kB/s]\n",
      "added_tokens.json: 100%|██████████| 34.6k/34.6k [00:00<00:00, 18.4MB/s]\n",
      "special_tokens_map.json: 100%|██████████| 2.07k/2.07k [00:00<00:00, 2.38MB/s]\n",
      "Special tokens have been added in the vocabulary, make sure the associated word embeddings are fine-tuned or trained.\n"
     ]
    }
   ],
   "source": [
    "## Whisper Speech Recognition Example\n",
    "\n",
    "import torch\n",
    "from transformers import AutoModelForSpeechSeq2Seq, AutoProcessor, pipeline\n",
    "from datasets import load_dataset\n",
    "\n",
    "\n",
    "device = \"cuda:0\" if torch.cuda.is_available() else \"cpu\"\n",
    "torch_dtype = torch.float16 if torch.cuda.is_available() else torch.float32\n",
    "\n",
    "model_id = \"openai/whisper-large-v3\"\n",
    "\n",
    "# AutoModelForSpeechSeq2Seq 是一個來自 Hugging Face 的 Transformers 函式庫中的模型類別。這個模型是用於語音轉文字 (Automatic Speech Recognition, ASR) 的序列到序列 (Seq2Seq) 任務。\n",
    "model = AutoModelForSpeechSeq2Seq.from_pretrained(\n",
    "    model_id, torch_dtype=torch_dtype, low_cpu_mem_usage=True, use_safetensors=True\n",
    ") \n",
    "model.to(device)\n",
    "\n",
    "processor = AutoProcessor.from_pretrained(model_id)\n",
    "\n",
    "pipe = pipeline(\n",
    "    \"automatic-speech-recognition\",\n",
    "    model=model,\n",
    "    tokenizer=processor.tokenizer,\n",
    "    feature_extractor=processor.feature_extractor,\n",
    "    max_new_tokens=128,\n",
    "    chunk_length_s=30,\n",
    "    batch_size=16,\n",
    "    return_timestamps=True,\n",
    "    torch_dtype=torch_dtype,\n",
    "    device=device,\n",
    ")\n",
    "\n",
    "# dataset = load_dataset(\"distil-whisper/librispeech_long\", \"clean\", split=\"validation\")\n",
    "# sample = dataset[0][\"audio\"]\n",
    "# result = pipe(sample)\n",
    "# print(result[\"text\"])"
   ]
  },
  {
   "cell_type": "code",
   "execution_count": 2,
   "metadata": {},
   "outputs": [
    {
     "name": "stdout",
     "output_type": "stream",
     "text": [
      "Running on local URL:  http://127.0.0.1:7861\n",
      "\n",
      "To create a public link, set `share=True` in `launch()`.\n"
     ]
    },
    {
     "data": {
      "text/html": [
       "<div><iframe src=\"http://127.0.0.1:7861/\" width=\"100%\" height=\"500\" allow=\"autoplay; camera; microphone; clipboard-read; clipboard-write;\" frameborder=\"0\" allowfullscreen></iframe></div>"
      ],
      "text/plain": [
       "<IPython.core.display.HTML object>"
      ]
     },
     "metadata": {},
     "output_type": "display_data"
    },
    {
     "data": {
      "text/plain": []
     },
     "execution_count": 2,
     "metadata": {},
     "output_type": "execute_result"
    },
    {
     "name": "stdout",
     "output_type": "stream",
     "text": [
      "/private/var/folders/b5/tv_lh5616bgcqzvxbrkkkwdw0000gn/T/gradio/639023028276866d8593ca8df05ecf9d1fa69e52/audio.wav\n"
     ]
    }
   ],
   "source": [
    "## Speech to text\n",
    "import gradio as gr\n",
    "\n",
    "title = \"語音 to 文字\"\n",
    "\n",
    "def generateAudio(input):\n",
    "    print(input)\n",
    "    result = pipe(input)\n",
    "    return result[\"text\"]\n",
    "\n",
    "audio_input = gr.Audio(type=\"filepath\")\n",
    "\n",
    "app = gr.Interface(fn=generateAudio, inputs=audio_input , outputs=\"text\", title=title)\n",
    "app.launch()"
   ]
  },
  {
   "cell_type": "code",
   "execution_count": null,
   "metadata": {},
   "outputs": [],
   "source": []
  }
 ],
 "metadata": {
  "kernelspec": {
   "display_name": ".gradio",
   "language": "python",
   "name": "python3"
  },
  "language_info": {
   "codemirror_mode": {
    "name": "ipython",
    "version": 3
   },
   "file_extension": ".py",
   "mimetype": "text/x-python",
   "name": "python",
   "nbconvert_exporter": "python",
   "pygments_lexer": "ipython3",
   "version": "3.11.5"
  }
 },
 "nbformat": 4,
 "nbformat_minor": 2
}
