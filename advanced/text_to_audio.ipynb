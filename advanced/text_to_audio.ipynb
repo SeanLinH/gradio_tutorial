{
 "cells": [
  {
   "cell_type": "markdown",
   "metadata": {},
   "source": [
    "# 實作文字轉語音\n",
    "透過pyttsx3 可以輕鬆將文字轉換成語音，可參考一下連結。\n",
    "\n",
    "https://pyttsx3.readthedocs.io/en/latest/engine.html#module-pyttsx3.engine\n",
    "\n",
    "語音輸出的清單，有提供各國語言的語音輸出\n",
    "\n",
    "https://github.com/Code-Gym/pyttsx3-voices-list/blob/main/voices%20list.txt"
   ]
  },
  {
   "cell_type": "code",
   "execution_count": 1,
   "metadata": {},
   "outputs": [
    {
     "name": "stderr",
     "output_type": "stream",
     "text": [
      "/Users/linshihuan/Dev/.gradio/lib/python3.11/site-packages/tqdm/auto.py:21: TqdmWarning: IProgress not found. Please update jupyter and ipywidgets. See https://ipywidgets.readthedocs.io/en/stable/user_install.html\n",
      "  from .autonotebook import tqdm as notebook_tqdm\n"
     ]
    },
    {
     "name": "stdout",
     "output_type": "stream",
     "text": [
      "Running on local URL:  http://127.0.0.1:7861\n",
      "\n",
      "To create a public link, set `share=True` in `launch()`.\n"
     ]
    },
    {
     "data": {
      "text/html": [
       "<div><iframe src=\"http://127.0.0.1:7861/\" width=\"100%\" height=\"500\" allow=\"autoplay; camera; microphone; clipboard-read; clipboard-write;\" frameborder=\"0\" allowfullscreen></iframe></div>"
      ],
      "text/plain": [
       "<IPython.core.display.HTML object>"
      ]
     },
     "metadata": {},
     "output_type": "display_data"
    },
    {
     "data": {
      "text/plain": []
     },
     "execution_count": 1,
     "metadata": {},
     "output_type": "execute_result"
    }
   ],
   "source": [
    "import pyttsx3\n",
    "import gradio as gr\n",
    "import os\n",
    "import openai\n",
    "from dotenv import load_dotenv\n",
    "\n",
    "load_dotenv()\n",
    "openai.api_key = os.getenv(\"API_KEY\")\n",
    "\n",
    "# Initialize the pyttsx3 engine outside the say() function\n",
    "engine = pyttsx3.init()\n",
    "engine.setProperty('voice', 'com.apple.speech.synthesis.voice.samantha') # 設定發音人\n",
    "engine.setProperty('rate', 150) # 設定語速 (words per minute)\n",
    "\n",
    "def say(message):\n",
    "    engine.say(message)\n",
    "    engine.runAndWait()\n",
    "\n",
    "def text2speech(message):\n",
    "    messages=[\n",
    "            {\"role\": \"system\", \"content\": \"You are a good AI Engineer\"},\n",
    "            {\"role\": \"user\", \"content\": f\"{message}\"}\n",
    "        ]\n",
    "    response = openai.chat.completions.create(\n",
    "            model=\"gpt-3.5-turbo\",\n",
    "            max_tokens=30,\n",
    "            temperature=0.3,\n",
    "            messages=messages,\n",
    "    )\n",
    "\n",
    "    msg = response.choices[0].message.content\n",
    "    say(msg)\n",
    "    \n",
    "    return msg\n",
    "\n",
    "\n",
    "app = gr.Interface(fn=text2speech, inputs='text' , outputs=\"text\", title='文字轉語音')\n",
    "app.launch()"
   ]
  }
 ],
 "metadata": {
  "kernelspec": {
   "display_name": ".gradio",
   "language": "python",
   "name": "python3"
  },
  "language_info": {
   "codemirror_mode": {
    "name": "ipython",
    "version": 3
   },
   "file_extension": ".py",
   "mimetype": "text/x-python",
   "name": "python",
   "nbconvert_exporter": "python",
   "pygments_lexer": "ipython3",
   "version": "3.11.5"
  }
 },
 "nbformat": 4,
 "nbformat_minor": 2
}
