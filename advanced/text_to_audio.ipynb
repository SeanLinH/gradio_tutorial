{
 "cells": [
  {
   "cell_type": "markdown",
   "metadata": {},
   "source": [
    "透過pyttsx3 可以輕鬆將文字轉換成語音，可參考一下連結。\n",
    "\n",
    "https://pyttsx3.readthedocs.io/en/latest/engine.html#module-pyttsx3.engine\n",
    "\n",
    "語音輸出的清單，有提供各國語言的語音輸出\n",
    "\n",
    "https://github.com/Code-Gym/pyttsx3-voices-list/blob/main/voices%20list.txt"
   ]
  },
  {
   "cell_type": "code",
   "execution_count": 1,
   "metadata": {},
   "outputs": [
    {
     "name": "stderr",
     "output_type": "stream",
     "text": [
      "/Users/linshihuan/Dev/.gradio/lib/python3.11/site-packages/tqdm/auto.py:21: TqdmWarning: IProgress not found. Please update jupyter and ipywidgets. See https://ipywidgets.readthedocs.io/en/stable/user_install.html\n",
      "  from .autonotebook import tqdm as notebook_tqdm\n"
     ]
    },
    {
     "name": "stdout",
     "output_type": "stream",
     "text": [
      "Running on local URL:  http://127.0.0.1:7860\n",
      "\n",
      "To create a public link, set `share=True` in `launch()`.\n"
     ]
    },
    {
     "data": {
      "text/html": [
       "<div><iframe src=\"http://127.0.0.1:7860/\" width=\"100%\" height=\"500\" allow=\"autoplay; camera; microphone; clipboard-read; clipboard-write;\" frameborder=\"0\" allowfullscreen></iframe></div>"
      ],
      "text/plain": [
       "<IPython.core.display.HTML object>"
      ]
     },
     "metadata": {},
     "output_type": "display_data"
    },
    {
     "data": {
      "text/plain": []
     },
     "execution_count": 1,
     "metadata": {},
     "output_type": "execute_result"
    },
    {
     "name": "stderr",
     "output_type": "stream",
     "text": [
      "Traceback (most recent call last):\n",
      "  File \"/Users/linshihuan/Dev/.gradio/lib/python3.11/site-packages/gradio/queueing.py\", line 495, in call_prediction\n",
      "    output = await route_utils.call_process_api(\n",
      "             ^^^^^^^^^^^^^^^^^^^^^^^^^^^^^^^^^^^\n",
      "  File \"/Users/linshihuan/Dev/.gradio/lib/python3.11/site-packages/gradio/route_utils.py\", line 232, in call_process_api\n",
      "    output = await app.get_blocks().process_api(\n",
      "             ^^^^^^^^^^^^^^^^^^^^^^^^^^^^^^^^^^^\n",
      "  File \"/Users/linshihuan/Dev/.gradio/lib/python3.11/site-packages/gradio/blocks.py\", line 1561, in process_api\n",
      "    result = await self.call_function(\n",
      "             ^^^^^^^^^^^^^^^^^^^^^^^^^\n",
      "  File \"/Users/linshihuan/Dev/.gradio/lib/python3.11/site-packages/gradio/blocks.py\", line 1179, in call_function\n",
      "    prediction = await anyio.to_thread.run_sync(\n",
      "                 ^^^^^^^^^^^^^^^^^^^^^^^^^^^^^^^\n",
      "  File \"/Users/linshihuan/Dev/.gradio/lib/python3.11/site-packages/anyio/to_thread.py\", line 56, in run_sync\n",
      "    return await get_async_backend().run_sync_in_worker_thread(\n",
      "           ^^^^^^^^^^^^^^^^^^^^^^^^^^^^^^^^^^^^^^^^^^^^^^^^^^^^\n",
      "  File \"/Users/linshihuan/Dev/.gradio/lib/python3.11/site-packages/anyio/_backends/_asyncio.py\", line 2134, in run_sync_in_worker_thread\n",
      "    return await future\n",
      "           ^^^^^^^^^^^^\n",
      "  File \"/Users/linshihuan/Dev/.gradio/lib/python3.11/site-packages/anyio/_backends/_asyncio.py\", line 851, in run\n",
      "    result = context.run(func, *args)\n",
      "             ^^^^^^^^^^^^^^^^^^^^^^^^\n",
      "  File \"/Users/linshihuan/Dev/.gradio/lib/python3.11/site-packages/gradio/utils.py\", line 678, in wrapper\n",
      "    response = f(*args, **kwargs)\n",
      "               ^^^^^^^^^^^^^^^^^^\n",
      "  File \"/var/folders/b5/tv_lh5616bgcqzvxbrkkkwdw0000gn/T/ipykernel_84681/3404496088.py\", line 32, in text2speech\n",
      "    say(msg)\n",
      "  File \"/var/folders/b5/tv_lh5616bgcqzvxbrkkkwdw0000gn/T/ipykernel_84681/3404496088.py\", line 17, in say\n",
      "    engine.runAndWait()\n",
      "  File \"/Users/linshihuan/Dev/.gradio/lib/python3.11/site-packages/pyttsx3/engine.py\", line 183, in runAndWait\n",
      "    raise RuntimeError('run loop already started')\n",
      "RuntimeError: run loop already started\n",
      "Traceback (most recent call last):\n",
      "  File \"/Users/linshihuan/Dev/.gradio/lib/python3.11/site-packages/gradio/queueing.py\", line 495, in call_prediction\n",
      "    output = await route_utils.call_process_api(\n",
      "             ^^^^^^^^^^^^^^^^^^^^^^^^^^^^^^^^^^^\n",
      "  File \"/Users/linshihuan/Dev/.gradio/lib/python3.11/site-packages/gradio/route_utils.py\", line 232, in call_process_api\n",
      "    output = await app.get_blocks().process_api(\n",
      "             ^^^^^^^^^^^^^^^^^^^^^^^^^^^^^^^^^^^\n",
      "  File \"/Users/linshihuan/Dev/.gradio/lib/python3.11/site-packages/gradio/blocks.py\", line 1561, in process_api\n",
      "    result = await self.call_function(\n",
      "             ^^^^^^^^^^^^^^^^^^^^^^^^^\n",
      "  File \"/Users/linshihuan/Dev/.gradio/lib/python3.11/site-packages/gradio/blocks.py\", line 1179, in call_function\n",
      "    prediction = await anyio.to_thread.run_sync(\n",
      "                 ^^^^^^^^^^^^^^^^^^^^^^^^^^^^^^^\n",
      "  File \"/Users/linshihuan/Dev/.gradio/lib/python3.11/site-packages/anyio/to_thread.py\", line 56, in run_sync\n",
      "    return await get_async_backend().run_sync_in_worker_thread(\n",
      "           ^^^^^^^^^^^^^^^^^^^^^^^^^^^^^^^^^^^^^^^^^^^^^^^^^^^^\n",
      "  File \"/Users/linshihuan/Dev/.gradio/lib/python3.11/site-packages/anyio/_backends/_asyncio.py\", line 2134, in run_sync_in_worker_thread\n",
      "    return await future\n",
      "           ^^^^^^^^^^^^\n",
      "  File \"/Users/linshihuan/Dev/.gradio/lib/python3.11/site-packages/anyio/_backends/_asyncio.py\", line 851, in run\n",
      "    result = context.run(func, *args)\n",
      "             ^^^^^^^^^^^^^^^^^^^^^^^^\n",
      "  File \"/Users/linshihuan/Dev/.gradio/lib/python3.11/site-packages/gradio/utils.py\", line 678, in wrapper\n",
      "    response = f(*args, **kwargs)\n",
      "               ^^^^^^^^^^^^^^^^^^\n",
      "  File \"/var/folders/b5/tv_lh5616bgcqzvxbrkkkwdw0000gn/T/ipykernel_84681/3404496088.py\", line 32, in text2speech\n",
      "    say(msg)\n",
      "  File \"/var/folders/b5/tv_lh5616bgcqzvxbrkkkwdw0000gn/T/ipykernel_84681/3404496088.py\", line 17, in say\n",
      "    engine.runAndWait()\n",
      "  File \"/Users/linshihuan/Dev/.gradio/lib/python3.11/site-packages/pyttsx3/engine.py\", line 183, in runAndWait\n",
      "    raise RuntimeError('run loop already started')\n",
      "RuntimeError: run loop already started\n"
     ]
    }
   ],
   "source": [
    "import pyttsx3\n",
    "import gradio as gr\n",
    "import os\n",
    "import openai\n",
    "from dotenv import load_dotenv\n",
    "\n",
    "load_dotenv()\n",
    "openai.api_key = os.getenv(\"API_KEY\")\n",
    "\n",
    "# Initialize the pyttsx3 engine outside the say() function\n",
    "engine = pyttsx3.init()\n",
    "engine.setProperty('voice', 'com.apple.speech.synthesis.voice.samantha') # 設定發音人\n",
    "engine.setProperty('rate', 150) # 設定語速 (words per minute)\n",
    "\n",
    "def say(message):\n",
    "    engine.say(message)\n",
    "    engine.runAndWait()\n",
    "\n",
    "def text2speech(message):\n",
    "    messages=[\n",
    "            {\"role\": \"system\", \"content\": \"You are a good AI Engineer\"},\n",
    "            {\"role\": \"user\", \"content\": f\"{message}\"}\n",
    "        ]\n",
    "    response = openai.chat.completions.create(\n",
    "            model=\"gpt-3.5-turbo\",\n",
    "            max_tokens=30,\n",
    "            temperature=0.3,\n",
    "            messages=messages,\n",
    "    )\n",
    "\n",
    "    msg = response.choices[0].message.content\n",
    "    say(msg)\n",
    "    \n",
    "    return msg\n",
    "\n",
    "\n",
    "app = gr.Interface(fn=text2speech, inputs='text' , outputs=\"text\", title='文字轉語音')\n",
    "app.launch()"
   ]
  }
 ],
 "metadata": {
  "kernelspec": {
   "display_name": ".gradio",
   "language": "python",
   "name": "python3"
  },
  "language_info": {
   "codemirror_mode": {
    "name": "ipython",
    "version": 3
   },
   "file_extension": ".py",
   "mimetype": "text/x-python",
   "name": "python",
   "nbconvert_exporter": "python",
   "pygments_lexer": "ipython3",
   "version": "3.11.5"
  }
 },
 "nbformat": 4,
 "nbformat_minor": 2
}
